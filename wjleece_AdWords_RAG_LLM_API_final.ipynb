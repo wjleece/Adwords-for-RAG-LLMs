{
  "cells": [
    {
      "cell_type": "markdown",
      "metadata": {
        "id": "view-in-github",
        "colab_type": "text"
      },
      "source": [
        "<a href=\"https://colab.research.google.com/github/wjleece/Adwords-for-RAG-LLMs/blob/main/wjleece_AdWords_RAG_LLM_API_final.ipynb\" target=\"_parent\"><img src=\"https://colab.research.google.com/assets/colab-badge.svg\" alt=\"Open In Colab\"/></a>"
      ]
    },
    {
      "cell_type": "markdown",
      "metadata": {
        "id": "YdspdQI26CRp"
      },
      "source": [
        "If you use this code, please cite:\n",
        "\n",
        "{\n",
        "  title = {Adwords RAG},\n",
        "\n",
        "  author = {Bill Leece},\n",
        "\n",
        "  year = {2024}\n",
        "}"
      ]
    },
    {
      "cell_type": "markdown",
      "source": [
        "#Intro"
      ],
      "metadata": {
        "id": "qs8C8N-v0Xd8"
      }
    },
    {
      "cell_type": "markdown",
      "source": [
        "I was curious to create a RAG search system that would return hyperlinked results, similar to what happens in web search. I did this because I assume at some point companies like Perplexity will monetize through advertising. A fair bit of the code below inovlves dealing with data to make it hyperlinkable, so you can treat that lightly if your main interest is getting up to speed on AI and RAG. Finally, for anyone who is worried about not knowing Python well, I'm far from fluent in Python, so for sure *you can do it too!*\n",
        "\n",
        "This notebook demonstrates conversational querying on Amazon product reviews for Nike shoes. Amazon recently announced a production-ready version of the concepts in this demo, which they call \"Rufus\": https://www.aboutamazon.com/news/retail/how-to-use-amazon-rufus"
      ],
      "metadata": {
        "id": "d96IBQvs0eR5"
      }
    },
    {
      "cell_type": "markdown",
      "source": [
        "#Using This Colab Notebook\n",
        "\n"
      ],
      "metadata": {
        "id": "jaM01M083Mu4"
      }
    },
    {
      "cell_type": "markdown",
      "source": [
        "You have commenting rights to this notebook, so feel free to ask questions. To run the code, you should make a copy of this notebook for yourself, then you can edit/play with it as you like. Have fun!"
      ],
      "metadata": {
        "id": "xr9WqhHA3TY7"
      }
    },
    {
      "cell_type": "markdown",
      "metadata": {
        "id": "C6sr4Wwu1Z5C"
      },
      "source": [
        "#Setup"
      ]
    },
    {
      "cell_type": "code",
      "execution_count": null,
      "metadata": {
        "id": "jDZc0rzxgxge"
      },
      "outputs": [],
      "source": [
        "!pip install openai migrate --quiet\n",
        "!pip install sentence_transformers --quiet\n",
        "!pip install --upgrade langchain langchain_openai langchain_community --quiet\n",
        "## !pip install tiktoken --quiet\n",
        "!pip install gradio faiss-gpu --quiet"
      ]
    },
    {
      "cell_type": "code",
      "execution_count": null,
      "metadata": {
        "colab": {
          "base_uri": "https://localhost:8080/"
        },
        "id": "bIo7XsS3Oop_",
        "outputId": "988dc5c9-ba9c-4536-d2bf-5288c3a4324b"
      },
      "outputs": [
        {
          "output_type": "stream",
          "name": "stdout",
          "text": [
            "Python 3.10.12\n"
          ]
        }
      ],
      "source": [
        "!python --version"
      ]
    },
    {
      "cell_type": "code",
      "execution_count": null,
      "metadata": {
        "colab": {
          "base_uri": "https://localhost:8080/"
        },
        "id": "bNqA0UrcOrHT",
        "outputId": "36baaad1-febf-40b8-cbc9-81f2ffdfc969"
      },
      "outputs": [
        {
          "output_type": "stream",
          "name": "stdout",
          "text": [
            "openai 1.43.0\n"
          ]
        }
      ],
      "source": [
        "!openai --version"
      ]
    },
    {
      "cell_type": "code",
      "execution_count": null,
      "metadata": {
        "id": "eyyZ0pJRhSSp"
      },
      "outputs": [],
      "source": [
        "import json\n",
        "import os\n",
        "import re\n",
        "import pandas as pd\n",
        "import requests\n",
        "import gradio as gr\n",
        "from IPython.display import HTML\n",
        "from getpass import getpass\n",
        "from langchain_community.document_loaders import CSVLoader\n",
        "from langchain_openai import OpenAIEmbeddings\n",
        "from langchain.prompts import PromptTemplate\n",
        "from langchain.chains import LLMChain\n",
        "from langchain_openai import OpenAI\n",
        "from langchain_community.vectorstores import FAISS"
      ]
    },
    {
      "cell_type": "markdown",
      "metadata": {
        "id": "qdBD5Hun1Rei"
      },
      "source": [
        "#Get Amazon Nike Review data (from Jan 2024, URLs may not work in the future)"
      ]
    },
    {
      "cell_type": "code",
      "execution_count": null,
      "metadata": {
        "id": "tdyiwcnDe-dU"
      },
      "outputs": [],
      "source": [
        "url = 'https://raw.githubusercontent.com/wjleece/adwords-for-LLMs/main/updated_Amazon_reviews_batch_all.json' #JSON formatted data\n",
        "\n",
        "response = requests.get(url)\n",
        "\n",
        "# Check if the request was successful\n",
        "if response.status_code == 200:\n",
        "    all_reviews = response.text\n",
        "else:\n",
        "    print(f\"Failed to fetch data: HTTP {response.status_code}\")\n",
        "\n",
        "# Now all_reviews contains the data from the URL"
      ]
    },
    {
      "cell_type": "code",
      "execution_count": null,
      "metadata": {
        "colab": {
          "base_uri": "https://localhost:8080/"
        },
        "id": "XoxxnNK786s0",
        "outputId": "62efc057-6041-43c6-a8fb-45410e13eb0a"
      },
      "outputs": [
        {
          "output_type": "stream",
          "name": "stdout",
          "text": [
            "<class 'str'>\n"
          ]
        }
      ],
      "source": [
        "print(type(all_reviews))"
      ]
    },
    {
      "cell_type": "code",
      "execution_count": null,
      "metadata": {
        "id": "APK7W1KLhCb8"
      },
      "outputs": [],
      "source": [
        "product_and_review_dict = json.loads(all_reviews) #ensures we have all the data formatted properly. Returns a dictionary."
      ]
    },
    {
      "cell_type": "code",
      "execution_count": null,
      "metadata": {
        "colab": {
          "base_uri": "https://localhost:8080/"
        },
        "id": "DGi4QYy_heH0",
        "outputId": "790ee18e-717a-459d-a13a-80b2a1e86a98"
      },
      "outputs": [
        {
          "output_type": "execute_result",
          "data": {
            "text/plain": [
              "dict"
            ]
          },
          "metadata": {},
          "execution_count": 72
        }
      ],
      "source": [
        "type(product_and_review_dict)"
      ]
    },
    {
      "cell_type": "code",
      "execution_count": null,
      "metadata": {
        "id": "xz91fL6ihwJ9"
      },
      "outputs": [],
      "source": [
        "# Let's get our data in something that makes it easy to view, like a DataFrame\n",
        "# DataFrame expects a list input, and we have a nested dictionary\n",
        "# Let's convert the nested dictionary to a list\n",
        "\n",
        "# Flatten the structure\n",
        "flattened_reviews = []\n",
        "for batch in product_and_review_dict.values():    #batch is the key values in json_data, as all_reviews was created by combining 4 separate batches of Amazon review data\n",
        "                                                  #I used Octoparse when had a limit (50) on the number of ASINs it could process in one batch.\n",
        "                                                  #There were 190 or so ASINs, hence 4 batches to get all the review data\n",
        "    flattened_reviews.extend(batch)               #modify the flattened_reviews list by adding each reivew to the end of the list"
      ]
    },
    {
      "cell_type": "code",
      "execution_count": null,
      "metadata": {
        "id": "yybz8MBcgiaK"
      },
      "outputs": [],
      "source": [
        "# Create DataFrame\n",
        "product_and_reviews_df = pd.DataFrame(flattened_reviews)"
      ]
    },
    {
      "cell_type": "code",
      "execution_count": null,
      "metadata": {
        "colab": {
          "base_uri": "https://localhost:8080/",
          "height": 206
        },
        "id": "EVb9XMQXh3TQ",
        "outputId": "a905216a-6705-4ea5-e3a9-8bc8d1f855cb"
      },
      "outputs": [
        {
          "output_type": "execute_result",
          "data": {
            "text/plain": [
              "      Product_Title        ASIN  \\\n",
              "0  nike air max 270  B078X16RP7   \n",
              "1  nike air max 270  B078X16RP7   \n",
              "2  nike air max 270  B078X16RP7   \n",
              "3  nike air max 270  B078X16RP7   \n",
              "4  nike air max 270  B078X16RP7   \n",
              "\n",
              "                                            Link_Url       Review_Date Rating  \\\n",
              "0  https://www.amazon.com/NIKE-Running-Shoes-Blac...  January 19, 2024    5.0   \n",
              "1  https://www.amazon.com/NIKE-Running-Shoes-Blac...  January 17, 2024    5.0   \n",
              "2  https://www.amazon.com/NIKE-Running-Shoes-Blac...  January 17, 2024    1.0   \n",
              "3  https://www.amazon.com/NIKE-Running-Shoes-Blac...  January 17, 2024    5.0   \n",
              "4  https://www.amazon.com/NIKE-Running-Shoes-Blac...  January 17, 2024    5.0   \n",
              "\n",
              "                                     Combined_Review  \n",
              "0  Están Hermosos. | A mi esposo le encantaron es...  \n",
              "1  True to size | There’s nothing I don’t like ab...  \n",
              "2  I have a lot of these… | These are my favorite...  \n",
              "3  Nike Air Max 270. | Beautiful, comfy, stylish,...  \n",
              "4                         Tennis | Excelente calidad  "
            ],
            "text/html": [
              "\n",
              "  <div id=\"df-1d0894c5-b5cd-4059-bce9-9dbc9100649f\" class=\"colab-df-container\">\n",
              "    <div>\n",
              "<style scoped>\n",
              "    .dataframe tbody tr th:only-of-type {\n",
              "        vertical-align: middle;\n",
              "    }\n",
              "\n",
              "    .dataframe tbody tr th {\n",
              "        vertical-align: top;\n",
              "    }\n",
              "\n",
              "    .dataframe thead th {\n",
              "        text-align: right;\n",
              "    }\n",
              "</style>\n",
              "<table border=\"1\" class=\"dataframe\">\n",
              "  <thead>\n",
              "    <tr style=\"text-align: right;\">\n",
              "      <th></th>\n",
              "      <th>Product_Title</th>\n",
              "      <th>ASIN</th>\n",
              "      <th>Link_Url</th>\n",
              "      <th>Review_Date</th>\n",
              "      <th>Rating</th>\n",
              "      <th>Combined_Review</th>\n",
              "    </tr>\n",
              "  </thead>\n",
              "  <tbody>\n",
              "    <tr>\n",
              "      <th>0</th>\n",
              "      <td>nike air max 270</td>\n",
              "      <td>B078X16RP7</td>\n",
              "      <td>https://www.amazon.com/NIKE-Running-Shoes-Blac...</td>\n",
              "      <td>January 19, 2024</td>\n",
              "      <td>5.0</td>\n",
              "      <td>Están Hermosos. | A mi esposo le encantaron es...</td>\n",
              "    </tr>\n",
              "    <tr>\n",
              "      <th>1</th>\n",
              "      <td>nike air max 270</td>\n",
              "      <td>B078X16RP7</td>\n",
              "      <td>https://www.amazon.com/NIKE-Running-Shoes-Blac...</td>\n",
              "      <td>January 17, 2024</td>\n",
              "      <td>5.0</td>\n",
              "      <td>True to size | There’s nothing I don’t like ab...</td>\n",
              "    </tr>\n",
              "    <tr>\n",
              "      <th>2</th>\n",
              "      <td>nike air max 270</td>\n",
              "      <td>B078X16RP7</td>\n",
              "      <td>https://www.amazon.com/NIKE-Running-Shoes-Blac...</td>\n",
              "      <td>January 17, 2024</td>\n",
              "      <td>1.0</td>\n",
              "      <td>I have a lot of these… | These are my favorite...</td>\n",
              "    </tr>\n",
              "    <tr>\n",
              "      <th>3</th>\n",
              "      <td>nike air max 270</td>\n",
              "      <td>B078X16RP7</td>\n",
              "      <td>https://www.amazon.com/NIKE-Running-Shoes-Blac...</td>\n",
              "      <td>January 17, 2024</td>\n",
              "      <td>5.0</td>\n",
              "      <td>Nike Air Max 270. | Beautiful, comfy, stylish,...</td>\n",
              "    </tr>\n",
              "    <tr>\n",
              "      <th>4</th>\n",
              "      <td>nike air max 270</td>\n",
              "      <td>B078X16RP7</td>\n",
              "      <td>https://www.amazon.com/NIKE-Running-Shoes-Blac...</td>\n",
              "      <td>January 17, 2024</td>\n",
              "      <td>5.0</td>\n",
              "      <td>Tennis | Excelente calidad</td>\n",
              "    </tr>\n",
              "  </tbody>\n",
              "</table>\n",
              "</div>\n",
              "    <div class=\"colab-df-buttons\">\n",
              "\n",
              "  <div class=\"colab-df-container\">\n",
              "    <button class=\"colab-df-convert\" onclick=\"convertToInteractive('df-1d0894c5-b5cd-4059-bce9-9dbc9100649f')\"\n",
              "            title=\"Convert this dataframe to an interactive table.\"\n",
              "            style=\"display:none;\">\n",
              "\n",
              "  <svg xmlns=\"http://www.w3.org/2000/svg\" height=\"24px\" viewBox=\"0 -960 960 960\">\n",
              "    <path d=\"M120-120v-720h720v720H120Zm60-500h600v-160H180v160Zm220 220h160v-160H400v160Zm0 220h160v-160H400v160ZM180-400h160v-160H180v160Zm440 0h160v-160H620v160ZM180-180h160v-160H180v160Zm440 0h160v-160H620v160Z\"/>\n",
              "  </svg>\n",
              "    </button>\n",
              "\n",
              "  <style>\n",
              "    .colab-df-container {\n",
              "      display:flex;\n",
              "      gap: 12px;\n",
              "    }\n",
              "\n",
              "    .colab-df-convert {\n",
              "      background-color: #E8F0FE;\n",
              "      border: none;\n",
              "      border-radius: 50%;\n",
              "      cursor: pointer;\n",
              "      display: none;\n",
              "      fill: #1967D2;\n",
              "      height: 32px;\n",
              "      padding: 0 0 0 0;\n",
              "      width: 32px;\n",
              "    }\n",
              "\n",
              "    .colab-df-convert:hover {\n",
              "      background-color: #E2EBFA;\n",
              "      box-shadow: 0px 1px 2px rgba(60, 64, 67, 0.3), 0px 1px 3px 1px rgba(60, 64, 67, 0.15);\n",
              "      fill: #174EA6;\n",
              "    }\n",
              "\n",
              "    .colab-df-buttons div {\n",
              "      margin-bottom: 4px;\n",
              "    }\n",
              "\n",
              "    [theme=dark] .colab-df-convert {\n",
              "      background-color: #3B4455;\n",
              "      fill: #D2E3FC;\n",
              "    }\n",
              "\n",
              "    [theme=dark] .colab-df-convert:hover {\n",
              "      background-color: #434B5C;\n",
              "      box-shadow: 0px 1px 3px 1px rgba(0, 0, 0, 0.15);\n",
              "      filter: drop-shadow(0px 1px 2px rgba(0, 0, 0, 0.3));\n",
              "      fill: #FFFFFF;\n",
              "    }\n",
              "  </style>\n",
              "\n",
              "    <script>\n",
              "      const buttonEl =\n",
              "        document.querySelector('#df-1d0894c5-b5cd-4059-bce9-9dbc9100649f button.colab-df-convert');\n",
              "      buttonEl.style.display =\n",
              "        google.colab.kernel.accessAllowed ? 'block' : 'none';\n",
              "\n",
              "      async function convertToInteractive(key) {\n",
              "        const element = document.querySelector('#df-1d0894c5-b5cd-4059-bce9-9dbc9100649f');\n",
              "        const dataTable =\n",
              "          await google.colab.kernel.invokeFunction('convertToInteractive',\n",
              "                                                    [key], {});\n",
              "        if (!dataTable) return;\n",
              "\n",
              "        const docLinkHtml = 'Like what you see? Visit the ' +\n",
              "          '<a target=\"_blank\" href=https://colab.research.google.com/notebooks/data_table.ipynb>data table notebook</a>'\n",
              "          + ' to learn more about interactive tables.';\n",
              "        element.innerHTML = '';\n",
              "        dataTable['output_type'] = 'display_data';\n",
              "        await google.colab.output.renderOutput(dataTable, element);\n",
              "        const docLink = document.createElement('div');\n",
              "        docLink.innerHTML = docLinkHtml;\n",
              "        element.appendChild(docLink);\n",
              "      }\n",
              "    </script>\n",
              "  </div>\n",
              "\n",
              "\n",
              "<div id=\"df-4cfe1b45-15f6-47aa-8ccb-7b6479efea4e\">\n",
              "  <button class=\"colab-df-quickchart\" onclick=\"quickchart('df-4cfe1b45-15f6-47aa-8ccb-7b6479efea4e')\"\n",
              "            title=\"Suggest charts\"\n",
              "            style=\"display:none;\">\n",
              "\n",
              "<svg xmlns=\"http://www.w3.org/2000/svg\" height=\"24px\"viewBox=\"0 0 24 24\"\n",
              "     width=\"24px\">\n",
              "    <g>\n",
              "        <path d=\"M19 3H5c-1.1 0-2 .9-2 2v14c0 1.1.9 2 2 2h14c1.1 0 2-.9 2-2V5c0-1.1-.9-2-2-2zM9 17H7v-7h2v7zm4 0h-2V7h2v10zm4 0h-2v-4h2v4z\"/>\n",
              "    </g>\n",
              "</svg>\n",
              "  </button>\n",
              "\n",
              "<style>\n",
              "  .colab-df-quickchart {\n",
              "      --bg-color: #E8F0FE;\n",
              "      --fill-color: #1967D2;\n",
              "      --hover-bg-color: #E2EBFA;\n",
              "      --hover-fill-color: #174EA6;\n",
              "      --disabled-fill-color: #AAA;\n",
              "      --disabled-bg-color: #DDD;\n",
              "  }\n",
              "\n",
              "  [theme=dark] .colab-df-quickchart {\n",
              "      --bg-color: #3B4455;\n",
              "      --fill-color: #D2E3FC;\n",
              "      --hover-bg-color: #434B5C;\n",
              "      --hover-fill-color: #FFFFFF;\n",
              "      --disabled-bg-color: #3B4455;\n",
              "      --disabled-fill-color: #666;\n",
              "  }\n",
              "\n",
              "  .colab-df-quickchart {\n",
              "    background-color: var(--bg-color);\n",
              "    border: none;\n",
              "    border-radius: 50%;\n",
              "    cursor: pointer;\n",
              "    display: none;\n",
              "    fill: var(--fill-color);\n",
              "    height: 32px;\n",
              "    padding: 0;\n",
              "    width: 32px;\n",
              "  }\n",
              "\n",
              "  .colab-df-quickchart:hover {\n",
              "    background-color: var(--hover-bg-color);\n",
              "    box-shadow: 0 1px 2px rgba(60, 64, 67, 0.3), 0 1px 3px 1px rgba(60, 64, 67, 0.15);\n",
              "    fill: var(--button-hover-fill-color);\n",
              "  }\n",
              "\n",
              "  .colab-df-quickchart-complete:disabled,\n",
              "  .colab-df-quickchart-complete:disabled:hover {\n",
              "    background-color: var(--disabled-bg-color);\n",
              "    fill: var(--disabled-fill-color);\n",
              "    box-shadow: none;\n",
              "  }\n",
              "\n",
              "  .colab-df-spinner {\n",
              "    border: 2px solid var(--fill-color);\n",
              "    border-color: transparent;\n",
              "    border-bottom-color: var(--fill-color);\n",
              "    animation:\n",
              "      spin 1s steps(1) infinite;\n",
              "  }\n",
              "\n",
              "  @keyframes spin {\n",
              "    0% {\n",
              "      border-color: transparent;\n",
              "      border-bottom-color: var(--fill-color);\n",
              "      border-left-color: var(--fill-color);\n",
              "    }\n",
              "    20% {\n",
              "      border-color: transparent;\n",
              "      border-left-color: var(--fill-color);\n",
              "      border-top-color: var(--fill-color);\n",
              "    }\n",
              "    30% {\n",
              "      border-color: transparent;\n",
              "      border-left-color: var(--fill-color);\n",
              "      border-top-color: var(--fill-color);\n",
              "      border-right-color: var(--fill-color);\n",
              "    }\n",
              "    40% {\n",
              "      border-color: transparent;\n",
              "      border-right-color: var(--fill-color);\n",
              "      border-top-color: var(--fill-color);\n",
              "    }\n",
              "    60% {\n",
              "      border-color: transparent;\n",
              "      border-right-color: var(--fill-color);\n",
              "    }\n",
              "    80% {\n",
              "      border-color: transparent;\n",
              "      border-right-color: var(--fill-color);\n",
              "      border-bottom-color: var(--fill-color);\n",
              "    }\n",
              "    90% {\n",
              "      border-color: transparent;\n",
              "      border-bottom-color: var(--fill-color);\n",
              "    }\n",
              "  }\n",
              "</style>\n",
              "\n",
              "  <script>\n",
              "    async function quickchart(key) {\n",
              "      const quickchartButtonEl =\n",
              "        document.querySelector('#' + key + ' button');\n",
              "      quickchartButtonEl.disabled = true;  // To prevent multiple clicks.\n",
              "      quickchartButtonEl.classList.add('colab-df-spinner');\n",
              "      try {\n",
              "        const charts = await google.colab.kernel.invokeFunction(\n",
              "            'suggestCharts', [key], {});\n",
              "      } catch (error) {\n",
              "        console.error('Error during call to suggestCharts:', error);\n",
              "      }\n",
              "      quickchartButtonEl.classList.remove('colab-df-spinner');\n",
              "      quickchartButtonEl.classList.add('colab-df-quickchart-complete');\n",
              "    }\n",
              "    (() => {\n",
              "      let quickchartButtonEl =\n",
              "        document.querySelector('#df-4cfe1b45-15f6-47aa-8ccb-7b6479efea4e button');\n",
              "      quickchartButtonEl.style.display =\n",
              "        google.colab.kernel.accessAllowed ? 'block' : 'none';\n",
              "    })();\n",
              "  </script>\n",
              "</div>\n",
              "\n",
              "    </div>\n",
              "  </div>\n"
            ],
            "application/vnd.google.colaboratory.intrinsic+json": {
              "type": "dataframe",
              "variable_name": "product_and_reviews_df",
              "summary": "{\n  \"name\": \"product_and_reviews_df\",\n  \"rows\": 6614,\n  \"fields\": [\n    {\n      \"column\": \"Product_Title\",\n      \"properties\": {\n        \"dtype\": \"category\",\n        \"num_unique_values\": 142,\n        \"samples\": [\n          \"nike air force 1 og sz 8.5\",\n          \"nike lebron witness vi\",\n          \"nike alpha huarache elite 3 baseball turf 10\"\n        ],\n        \"semantic_type\": \"\",\n        \"description\": \"\"\n      }\n    },\n    {\n      \"column\": \"ASIN\",\n      \"properties\": {\n        \"dtype\": \"category\",\n        \"num_unique_values\": 174,\n        \"samples\": [\n          \"B075ZYHHG6\",\n          \"B0BNJLH7Z5\",\n          \"B0BSYRPY52\"\n        ],\n        \"semantic_type\": \"\",\n        \"description\": \"\"\n      }\n    },\n    {\n      \"column\": \"Link_Url\",\n      \"properties\": {\n        \"dtype\": \"category\",\n        \"num_unique_values\": 174,\n        \"samples\": [\n          \"https://www.amazon.com/Nike-Pegasus-Particle-Crimson-Thunder/dp/B075ZYHHG6/ref=cm_cr_arp_d_bdcrb_top?ie=UTF8\",\n          \"https://www.amazon.com/Nike-Fuchsia-Training-us_Footwear_Size_System-Numeric_11/dp/B0BNJLH7Z5/ref=cm_cr_arp_d_bdcrb_top?ie=UTF8\",\n          \"https://www.amazon.com/Nike-Premium-Metallic-us_Footwear_Size_System-Numeric_10_Point_5/dp/B0BSYRPY52/ref=cm_cr_arp_d_bdcrb_top?ie=UTF8\"\n        ],\n        \"semantic_type\": \"\",\n        \"description\": \"\"\n      }\n    },\n    {\n      \"column\": \"Review_Date\",\n      \"properties\": {\n        \"dtype\": \"category\",\n        \"num_unique_values\": 878,\n        \"samples\": [\n          \"April 12, 2023\",\n          \"Reviewed in Mexico on March 5, 2023\",\n          \"Reviewed in Australia on October 12, 2023\"\n        ],\n        \"semantic_type\": \"\",\n        \"description\": \"\"\n      }\n    },\n    {\n      \"column\": \"Rating\",\n      \"properties\": {\n        \"dtype\": \"category\",\n        \"num_unique_values\": 10,\n        \"samples\": [\n          \"2.02.0\",\n          \"1.0\",\n          \"2.0\"\n        ],\n        \"semantic_type\": \"\",\n        \"description\": \"\"\n      }\n    },\n    {\n      \"column\": \"Combined_Review\",\n      \"properties\": {\n        \"dtype\": \"string\",\n        \"num_unique_values\": 6571,\n        \"samples\": [\n          \"Good shoes but\\u2026 | Great shoes highly recommend if you watched the RISE movie on Disney +. Now even if you don\\u2019t use them for basketball they are good for everyday walking. But one think is is that they get hot and fog up but honestly it\\u2019s a good investment.\",\n          \"Good service | Great and I love it\",\n          \"Cute Nikes | These are cute shoes \\ud83d\\udc5f and I got a lot of compliments. It\\u2019s a snug fit so will take a while to break in and these may be more of a winter sneaker bc they don\\u2019t breathe a lot (and makes my feet hot in summer)\"\n        ],\n        \"semantic_type\": \"\",\n        \"description\": \"\"\n      }\n    }\n  ]\n}"
            }
          },
          "metadata": {},
          "execution_count": 75
        }
      ],
      "source": [
        "product_and_reviews_df.head() #this is just so we can easily see our data in a convenient format. I prefer it to running a for loop b/c the results are simply easier to read in a DataFrame"
      ]
    },
    {
      "cell_type": "code",
      "execution_count": null,
      "metadata": {
        "colab": {
          "base_uri": "https://localhost:8080/"
        },
        "id": "06PInPx1zzuA",
        "outputId": "43292724-3e35-463e-be80-369840ae1b16"
      },
      "outputs": [
        {
          "output_type": "execute_result",
          "data": {
            "text/plain": [
              "(6614, 6)"
            ]
          },
          "metadata": {},
          "execution_count": 76
        }
      ],
      "source": [
        "product_and_reviews_df.shape"
      ]
    },
    {
      "cell_type": "markdown",
      "metadata": {
        "id": "eYg3gKCNYCVj"
      },
      "source": [
        "#Listify Product Review Data for RAG Usage"
      ]
    },
    {
      "cell_type": "code",
      "execution_count": null,
      "metadata": {
        "colab": {
          "base_uri": "https://localhost:8080/",
          "height": 35
        },
        "id": "A-XLYClPIVi0",
        "outputId": "927c6ce4-2b7b-44b0-f035-a6f48f071a75"
      },
      "outputs": [
        {
          "output_type": "execute_result",
          "data": {
            "text/plain": [
              "'Nike Air Max 270. | Beautiful, comfy, stylish, just perfect, nothing much to say!'"
            ],
            "application/vnd.google.colaboratory.intrinsic+json": {
              "type": "string"
            }
          },
          "metadata": {},
          "execution_count": 77
        }
      ],
      "source": [
        "product_and_reviews_df.Combined_Review[3]"
      ]
    },
    {
      "cell_type": "code",
      "execution_count": null,
      "metadata": {
        "id": "Civs5KumwjXw",
        "colab": {
          "base_uri": "https://localhost:8080/"
        },
        "outputId": "3657c9a9-3038-46f2-b9fd-e72a1299a195"
      },
      "outputs": [
        {
          "output_type": "stream",
          "name": "stdout",
          "text": [
            "mkdir: cannot create directory ‘data’: File exists\n"
          ]
        }
      ],
      "source": [
        "!mkdir data"
      ]
    },
    {
      "cell_type": "code",
      "execution_count": null,
      "metadata": {
        "id": "98yAZrdTwmj6"
      },
      "outputs": [],
      "source": [
        "product_and_reviews_df.to_csv('data/df_embed.csv',index=False)"
      ]
    },
    {
      "cell_type": "code",
      "execution_count": null,
      "metadata": {
        "id": "FKpvgS-ywpZp",
        "colab": {
          "base_uri": "https://localhost:8080/",
          "height": 35
        },
        "outputId": "67dbfae1-7d2c-4ab6-e638-2a8abb5e93a5"
      },
      "outputs": [
        {
          "output_type": "execute_result",
          "data": {
            "text/plain": [
              "'Nike Air Max 270. | Beautiful, comfy, stylish, just perfect, nothing much to say!'"
            ],
            "application/vnd.google.colaboratory.intrinsic+json": {
              "type": "string"
            }
          },
          "metadata": {},
          "execution_count": 80
        }
      ],
      "source": [
        "product_and_reviews_df.Combined_Review[3]"
      ]
    },
    {
      "cell_type": "code",
      "execution_count": null,
      "metadata": {
        "id": "mDPrGuC9wsVu"
      },
      "outputs": [],
      "source": [
        "# we do some stuff here b/c FAISS.from_documents required data to be formatted in a certain way\n",
        "\n",
        "data = []\n",
        "\n",
        "path= 'data/df_embed.csv'\n",
        "\n",
        "loader = CSVLoader(file_path=path,source_column=\"Combined_Review\")\n",
        "\n",
        "data = loader.load() #creates a list of langchain Documents, see https://python.langchain.com/docs/modules/data_connection/document_loaders/"
      ]
    },
    {
      "cell_type": "code",
      "source": [
        "type(loader)"
      ],
      "metadata": {
        "colab": {
          "base_uri": "https://localhost:8080/",
          "height": 221
        },
        "id": "Rw_dbrr-qNNw",
        "outputId": "7adca108-4f2b-4d54-f974-a62c8f9e936a"
      },
      "execution_count": null,
      "outputs": [
        {
          "output_type": "execute_result",
          "data": {
            "text/plain": [
              "langchain_community.document_loaders.csv_loader.CSVLoader"
            ],
            "text/html": [
              "<div style=\"max-width:800px; border: 1px solid var(--colab-border-color);\"><style>\n",
              "      pre.function-repr-contents {\n",
              "        overflow-x: auto;\n",
              "        padding: 8px 12px;\n",
              "        max-height: 500px;\n",
              "      }\n",
              "\n",
              "      pre.function-repr-contents.function-repr-contents-collapsed {\n",
              "        cursor: pointer;\n",
              "        max-height: 100px;\n",
              "      }\n",
              "    </style>\n",
              "    <pre style=\"white-space: initial; background:\n",
              "         var(--colab-secondary-surface-color); padding: 8px 12px;\n",
              "         border-bottom: 1px solid var(--colab-border-color);\"><b>langchain_community.document_loaders.csv_loader.CSVLoader</b><br/>def __init__(file_path: Union[str, Path], source_column: Optional[str]=None, metadata_columns: Sequence[str]=(), csv_args: Optional[Dict]=None, encoding: Optional[str]=None, autodetect_encoding: bool=False)</pre><pre class=\"function-repr-contents function-repr-contents-collapsed\" style=\"\"><a class=\"filepath\" style=\"display:none\" href=\"#\">/usr/local/lib/python3.10/dist-packages/langchain_community/document_loaders/csv_loader.py</a>Load a `CSV` file into a list of Documents.\n",
              "\n",
              "Each document represents one row of the CSV file. Every row is converted\n",
              "into a key/value pair and outputted to a new line in the document&#x27;s\n",
              "page_content.\n",
              "\n",
              "The source for each document loaded from csv is set to the value of the\n",
              "`file_path` argument for all documents by default.\n",
              "You can override this by setting the `source_column` argument to the\n",
              "name of a column in the CSV file.\n",
              "The source of each document will then be set to the value of the column\n",
              "with the name specified in `source_column`.\n",
              "\n",
              "Output Example:\n",
              "    .. code-block:: txt\n",
              "\n",
              "        column1: value1\n",
              "        column2: value2\n",
              "        column3: value3\n",
              "\n",
              "Instantiate:\n",
              "    .. code-block:: python\n",
              "\n",
              "        from langchain_community.document_loaders import CSVLoader\n",
              "\n",
              "        loader = CSVLoader(file_path=&#x27;./hw_200.csv&#x27;,\n",
              "            csv_args={\n",
              "            &#x27;delimiter&#x27;: &#x27;,&#x27;,\n",
              "            &#x27;quotechar&#x27;: &#x27;&quot;&#x27;,\n",
              "            &#x27;fieldnames&#x27;: [&#x27;Index&#x27;, &#x27;Height&#x27;, &#x27;Weight&#x27;]\n",
              "        })\n",
              "\n",
              "Load:\n",
              "    .. code-block:: python\n",
              "\n",
              "        docs = loader.load()\n",
              "        print(docs[0].page_content[:100])\n",
              "        print(docs[0].metadata)\n",
              "\n",
              "    .. code-block:: python\n",
              "\n",
              "        Index: Index\n",
              "        Height: Height(Inches)&quot;\n",
              "        Weight: &quot;Weight(Pounds)&quot;\n",
              "        {&#x27;source&#x27;: &#x27;./hw_200.csv&#x27;, &#x27;row&#x27;: 0}\n",
              "\n",
              "Async load:\n",
              "    .. code-block:: python\n",
              "\n",
              "        docs = await loader.aload()\n",
              "        print(docs[0].page_content[:100])\n",
              "        print(docs[0].metadata)\n",
              "\n",
              "    .. code-block:: python\n",
              "\n",
              "        Index: Index\n",
              "        Height: Height(Inches)&quot;\n",
              "        Weight: &quot;Weight(Pounds)&quot;\n",
              "        {&#x27;source&#x27;: &#x27;./hw_200.csv&#x27;, &#x27;row&#x27;: 0}\n",
              "\n",
              "Lazy load:\n",
              "    .. code-block:: python\n",
              "\n",
              "        docs = []\n",
              "        docs_lazy = loader.lazy_load()\n",
              "\n",
              "        # async variant:\n",
              "        # docs_lazy = await loader.alazy_load()\n",
              "\n",
              "        for doc in docs_lazy:\n",
              "            docs.append(doc)\n",
              "        print(docs[0].page_content[:100])\n",
              "        print(docs[0].metadata)\n",
              "\n",
              "    .. code-block:: python\n",
              "\n",
              "        Index: Index\n",
              "        Height: Height(Inches)&quot;\n",
              "        Weight: &quot;Weight(Pounds)&quot;\n",
              "        {&#x27;source&#x27;: &#x27;./hw_200.csv&#x27;, &#x27;row&#x27;: 0}</pre>\n",
              "      <script>\n",
              "      if (google.colab.kernel.accessAllowed && google.colab.files && google.colab.files.view) {\n",
              "        for (const element of document.querySelectorAll('.filepath')) {\n",
              "          element.style.display = 'block'\n",
              "          element.onclick = (event) => {\n",
              "            event.preventDefault();\n",
              "            event.stopPropagation();\n",
              "            google.colab.files.view(element.textContent, 16);\n",
              "          };\n",
              "        }\n",
              "      }\n",
              "      for (const element of document.querySelectorAll('.function-repr-contents')) {\n",
              "        element.onclick = (event) => {\n",
              "          event.preventDefault();\n",
              "          event.stopPropagation();\n",
              "          element.classList.toggle('function-repr-contents-collapsed');\n",
              "        };\n",
              "      }\n",
              "      </script>\n",
              "      </div>"
            ]
          },
          "metadata": {},
          "execution_count": 24
        }
      ]
    },
    {
      "cell_type": "code",
      "execution_count": null,
      "metadata": {
        "id": "ltFEq2ZGJe2O",
        "colab": {
          "base_uri": "https://localhost:8080/"
        },
        "outputId": "0df31cca-5137-4bee-82da-8aff44ef284b"
      },
      "outputs": [
        {
          "output_type": "execute_result",
          "data": {
            "text/plain": [
              "list"
            ]
          },
          "metadata": {},
          "execution_count": 25
        }
      ],
      "source": [
        "type(data) # Now we're good to go as  we need: FAISS.from_documents(list of Documents, embedding function)"
      ]
    },
    {
      "cell_type": "code",
      "execution_count": null,
      "metadata": {
        "id": "wnhDqKGaJhzz",
        "colab": {
          "base_uri": "https://localhost:8080/"
        },
        "outputId": "6aa3a98b-40f4-4c95-cb8d-2ab4ae1612bd"
      },
      "outputs": [
        {
          "output_type": "execute_result",
          "data": {
            "text/plain": [
              "Document(metadata={'source': 'Nike Air Max 270. | Beautiful, comfy, stylish, just perfect, nothing much to say!', 'row': 3}, page_content='Product_Title: nike air max 270\\nASIN: B078X16RP7\\nLink_Url: https://www.amazon.com/NIKE-Running-Shoes-Black-White-AH8050-100/dp/B078X16RP7/ref=cm_cr_arp_d_bdcrb_top?ie=UTF8\\nReview_Date: January 17, 2024\\nRating: 5.0\\nCombined_Review: Nike Air Max 270. | Beautiful, comfy, stylish, just perfect, nothing much to say!')"
            ]
          },
          "metadata": {},
          "execution_count": 26
        }
      ],
      "source": [
        "#debug\n",
        "\n",
        "data[3]"
      ]
    },
    {
      "cell_type": "code",
      "execution_count": null,
      "metadata": {
        "id": "XWxZIR3bJ5uA",
        "colab": {
          "base_uri": "https://localhost:8080/"
        },
        "outputId": "c0b25af3-3b98-4f42-8a16-1fc266728d87"
      },
      "outputs": [
        {
          "output_type": "stream",
          "name": "stdout",
          "text": [
            "You have 6614 review(s) in your data\n",
            "There are 2455211 words in total in all of the reviews\n"
          ]
        }
      ],
      "source": [
        "# for interest / debugging only\n",
        "\n",
        "word_count=0\n",
        "total_word_count=0\n",
        "\n",
        "for i in range(len(data)):\n",
        "    word_count = len(data[i].page_content) #Combined_Review is the 6th item\n",
        "    total_word_count = total_word_count + word_count\n",
        "\n",
        "print (f'You have {len(data)} review(s) in your data')\n",
        "print (f'There are {total_word_count} words in total in all of the reviews')"
      ]
    },
    {
      "cell_type": "markdown",
      "metadata": {
        "id": "_2nZBiiVjUd9"
      },
      "source": [
        "#Authenticate OpenAI API & Get Embeddings"
      ]
    },
    {
      "cell_type": "code",
      "execution_count": null,
      "metadata": {
        "id": "WlecKhvwjTGM",
        "colab": {
          "base_uri": "https://localhost:8080/"
        },
        "outputId": "3f645e00-ddf6-445a-ebd4-ecfe96df9905"
      },
      "outputs": [
        {
          "output_type": "stream",
          "name": "stdout",
          "text": [
            "··········\n",
            "OpenAI API key configured\n"
          ]
        }
      ],
      "source": [
        "if os.getenv(\"OPENAI_API_KEY\") is None:\n",
        "  if any(['VSCODE' in x for x in os.environ.keys()]):\n",
        "    print('Please enter password in the VS Code prompt at the top of your VS Code window!')\n",
        "  os.environ[\"OPENAI_API_KEY\"] = getpass(\"\")\n",
        "\n",
        "assert os.getenv(\"OPENAI_API_KEY\", \"\").startswith(\"sk-\"), \"This doesn't look like a valid OpenAI API key\"\n",
        "print(\"OpenAI API key configured\")"
      ]
    },
    {
      "cell_type": "code",
      "execution_count": null,
      "metadata": {
        "id": "pc-2l5uglyYD"
      },
      "outputs": [],
      "source": [
        "# Only run this once per session as it can get expensive - and this data is static!\n",
        "\n",
        "embeddings = OpenAIEmbeddings(model=\"text-embedding-ada-002\")\n",
        "\n",
        "#embeddings = OpenAIEmbeddings(model=\"text-embedding-3-small\") #use this in the future as its cheaper; currently there's a formatting issue w/ the hyperlinks w/ this model\n",
        "\n",
        "db = FAISS.from_documents(data, embeddings) #instantiates a FAISS vector database & generates embeddings for each document in data using the OpenAIEmbeddings\n",
        "                                            #those embeddings are indexed in the FAISS vector database"
      ]
    },
    {
      "cell_type": "code",
      "source": [
        "dir(db)"
      ],
      "metadata": {
        "colab": {
          "base_uri": "https://localhost:8080/"
        },
        "id": "L0oWzLWIpFWa",
        "outputId": "5973406d-48bd-4023-d8a3-93ab5a6f964f"
      },
      "execution_count": null,
      "outputs": [
        {
          "output_type": "execute_result",
          "data": {
            "text/plain": [
              "['_FAISS__add',\n",
              " '_FAISS__from',\n",
              " '__abstractmethods__',\n",
              " '__class__',\n",
              " '__delattr__',\n",
              " '__dict__',\n",
              " '__dir__',\n",
              " '__doc__',\n",
              " '__eq__',\n",
              " '__format__',\n",
              " '__ge__',\n",
              " '__getattribute__',\n",
              " '__gt__',\n",
              " '__hash__',\n",
              " '__init__',\n",
              " '__init_subclass__',\n",
              " '__le__',\n",
              " '__lt__',\n",
              " '__module__',\n",
              " '__ne__',\n",
              " '__new__',\n",
              " '__reduce__',\n",
              " '__reduce_ex__',\n",
              " '__repr__',\n",
              " '__setattr__',\n",
              " '__sizeof__',\n",
              " '__slots__',\n",
              " '__str__',\n",
              " '__subclasshook__',\n",
              " '__weakref__',\n",
              " '_abc_impl',\n",
              " '_aembed_documents',\n",
              " '_aembed_query',\n",
              " '_asimilarity_search_with_relevance_scores',\n",
              " '_cosine_relevance_score_fn',\n",
              " '_create_filter_func',\n",
              " '_embed_documents',\n",
              " '_embed_query',\n",
              " '_euclidean_relevance_score_fn',\n",
              " '_get_retriever_tags',\n",
              " '_max_inner_product_relevance_score_fn',\n",
              " '_normalize_L2',\n",
              " '_select_relevance_score_fn',\n",
              " '_similarity_search_with_relevance_scores',\n",
              " 'aadd_documents',\n",
              " 'aadd_texts',\n",
              " 'add_documents',\n",
              " 'add_embeddings',\n",
              " 'add_texts',\n",
              " 'adelete',\n",
              " 'afrom_documents',\n",
              " 'afrom_embeddings',\n",
              " 'afrom_texts',\n",
              " 'aget_by_ids',\n",
              " 'amax_marginal_relevance_search',\n",
              " 'amax_marginal_relevance_search_by_vector',\n",
              " 'amax_marginal_relevance_search_with_score_by_vector',\n",
              " 'as_retriever',\n",
              " 'asearch',\n",
              " 'asimilarity_search',\n",
              " 'asimilarity_search_by_vector',\n",
              " 'asimilarity_search_with_relevance_scores',\n",
              " 'asimilarity_search_with_score',\n",
              " 'asimilarity_search_with_score_by_vector',\n",
              " 'delete',\n",
              " 'deserialize_from_bytes',\n",
              " 'distance_strategy',\n",
              " 'docstore',\n",
              " 'embedding_function',\n",
              " 'embeddings',\n",
              " 'from_documents',\n",
              " 'from_embeddings',\n",
              " 'from_texts',\n",
              " 'get_by_ids',\n",
              " 'index',\n",
              " 'index_to_docstore_id',\n",
              " 'load_local',\n",
              " 'max_marginal_relevance_search',\n",
              " 'max_marginal_relevance_search_by_vector',\n",
              " 'max_marginal_relevance_search_with_score_by_vector',\n",
              " 'merge_from',\n",
              " 'override_relevance_score_fn',\n",
              " 'save_local',\n",
              " 'search',\n",
              " 'serialize_to_bytes',\n",
              " 'similarity_search',\n",
              " 'similarity_search_by_vector',\n",
              " 'similarity_search_with_relevance_scores',\n",
              " 'similarity_search_with_score',\n",
              " 'similarity_search_with_score_by_vector']"
            ]
          },
          "metadata": {},
          "execution_count": 30
        }
      ]
    },
    {
      "cell_type": "code",
      "source": [
        "dir(embeddings)"
      ],
      "metadata": {
        "colab": {
          "base_uri": "https://localhost:8080/"
        },
        "id": "8wO8kYrBGUH4",
        "outputId": "8a0de424-68d1-440e-9265-bd1963ea7af4"
      },
      "execution_count": null,
      "outputs": [
        {
          "output_type": "execute_result",
          "data": {
            "text/plain": [
              "['Config',\n",
              " '__abstractmethods__',\n",
              " '__annotations__',\n",
              " '__class__',\n",
              " '__class_vars__',\n",
              " '__config__',\n",
              " '__custom_root_type__',\n",
              " '__delattr__',\n",
              " '__dict__',\n",
              " '__dir__',\n",
              " '__doc__',\n",
              " '__eq__',\n",
              " '__exclude_fields__',\n",
              " '__fields__',\n",
              " '__fields_set__',\n",
              " '__format__',\n",
              " '__ge__',\n",
              " '__get_validators__',\n",
              " '__getattribute__',\n",
              " '__getstate__',\n",
              " '__gt__',\n",
              " '__hash__',\n",
              " '__include_fields__',\n",
              " '__init__',\n",
              " '__init_subclass__',\n",
              " '__iter__',\n",
              " '__json_encoder__',\n",
              " '__le__',\n",
              " '__lt__',\n",
              " '__module__',\n",
              " '__ne__',\n",
              " '__new__',\n",
              " '__post_root_validators__',\n",
              " '__pre_root_validators__',\n",
              " '__pretty__',\n",
              " '__private_attributes__',\n",
              " '__reduce__',\n",
              " '__reduce_ex__',\n",
              " '__repr__',\n",
              " '__repr_args__',\n",
              " '__repr_name__',\n",
              " '__repr_str__',\n",
              " '__rich_repr__',\n",
              " '__schema_cache__',\n",
              " '__setattr__',\n",
              " '__setstate__',\n",
              " '__signature__',\n",
              " '__sizeof__',\n",
              " '__slots__',\n",
              " '__str__',\n",
              " '__subclasshook__',\n",
              " '__try_update_forward_refs__',\n",
              " '__validators__',\n",
              " '__weakref__',\n",
              " '_abc_impl',\n",
              " '_aget_len_safe_embeddings',\n",
              " '_calculate_keys',\n",
              " '_copy_and_set_values',\n",
              " '_decompose_class',\n",
              " '_enforce_dict_if_root',\n",
              " '_get_len_safe_embeddings',\n",
              " '_get_value',\n",
              " '_init_private_attributes',\n",
              " '_invocation_params',\n",
              " '_iter',\n",
              " '_tokenize',\n",
              " 'aembed_documents',\n",
              " 'aembed_query',\n",
              " 'allowed_special',\n",
              " 'async_client',\n",
              " 'build_extra',\n",
              " 'check_embedding_ctx_length',\n",
              " 'chunk_size',\n",
              " 'client',\n",
              " 'construct',\n",
              " 'copy',\n",
              " 'default_headers',\n",
              " 'default_query',\n",
              " 'deployment',\n",
              " 'dict',\n",
              " 'dimensions',\n",
              " 'disallowed_special',\n",
              " 'embed_documents',\n",
              " 'embed_query',\n",
              " 'embedding_ctx_length',\n",
              " 'from_orm',\n",
              " 'headers',\n",
              " 'http_async_client',\n",
              " 'http_client',\n",
              " 'json',\n",
              " 'max_retries',\n",
              " 'model',\n",
              " 'model_kwargs',\n",
              " 'openai_api_base',\n",
              " 'openai_api_key',\n",
              " 'openai_api_type',\n",
              " 'openai_api_version',\n",
              " 'openai_organization',\n",
              " 'openai_proxy',\n",
              " 'parse_file',\n",
              " 'parse_obj',\n",
              " 'parse_raw',\n",
              " 'request_timeout',\n",
              " 'retry_max_seconds',\n",
              " 'retry_min_seconds',\n",
              " 'schema',\n",
              " 'schema_json',\n",
              " 'show_progress_bar',\n",
              " 'skip_empty',\n",
              " 'tiktoken_enabled',\n",
              " 'tiktoken_model_name',\n",
              " 'update_forward_refs',\n",
              " 'validate',\n",
              " 'validate_environment']"
            ]
          },
          "metadata": {},
          "execution_count": 31
        }
      ]
    },
    {
      "cell_type": "markdown",
      "metadata": {
        "id": "lw5VlxBnaxxZ"
      },
      "source": [
        "#Create RAG Response Function Returing JSON Formatted Data + Response Quality Function"
      ]
    },
    {
      "cell_type": "code",
      "execution_count": null,
      "metadata": {
        "id": "UYtuivTJy186"
      },
      "outputs": [],
      "source": [
        "query = \"What are some great Nike running shoes that customers love?\"\n",
        "\n",
        "#I only have this here as a seeding input, so that the functions below can successfully initialize so that you can then run greet().\n",
        "#This item only needs to be run once per session as once functions are initialized, the greet() function will execute taking the 'actual customer query'"
      ]
    },
    {
      "cell_type": "code",
      "execution_count": null,
      "metadata": {
        "id": "8BrIz9ZyXvpL"
      },
      "outputs": [],
      "source": [
        "from langchain_openai import ChatOpenAI\n",
        "from langchain.prompts import ChatPromptTemplate\n",
        "from langchain.schema import StrOutputParser\n",
        "\n",
        "def get_rag_response_from_query(db, query, k=5):\n",
        "    # Similarity search\n",
        "    reviews = db.similarity_search(query, k=k)\n",
        "    review_content = \" \".join([r.page_content for r in reviews])\n",
        "\n",
        "    # Initialize ChatOpenAI with gpt-4o\n",
        "    llm = ChatOpenAI(model_name=\"gpt-4o\", temperature=0.5)\n",
        "\n",
        "    # Main prompt\n",
        "    prompt = ChatPromptTemplate.from_template(\"\"\"\n",
        "    You are a bot has specialized knowledge of Nike shoes, which you have obtained from Nike shoe customer review data from Amazon that has been provided to you.\n",
        "    When you are asked questions about Nike shoes, make sure to mention specific key phrases from the reviews that you have access to, as long as that information\n",
        "    is relevant to the question asked. Return the response in the form of an introduction, a recommendation section, and a conclusion.\n",
        "    Return the data in the recommendation section in JSON format using \"product_name\" as the key and \"description\" as the value.\n",
        "    You do not need to tell me when the JSON formatted section begins or ends as I expect that to be clearly indicated with \"[\" and \"]\", respectively.\n",
        "    Similarly you do not need to tell me what the intro is and what the conclusion is as it will precede and follow the \"[\" and \"]\", respectively.\n",
        "\n",
        "    Answer the following question: {question}\n",
        "    By searching the following articles: {docs}\n",
        "\n",
        "    If the question is not related to the information in the Nike shoe customer review data from Amazon\n",
        "    that you have been given access to, respond that you have expertise in Nike shoes but not on the topic the user has asked.\n",
        "    \"\"\")\n",
        "\n",
        "    # Create and invoke chain\n",
        "    chain = prompt | llm | StrOutputParser()\n",
        "    rag_response_text = chain.invoke({\"question\": query, \"docs\": review_content})\n",
        "\n",
        "    # Evaluation prompt\n",
        "    prompt_eval = ChatPromptTemplate.from_template(\"\"\"\n",
        "    You job is to evaluate if the response to a given context is faithful for the following: {answer}\n",
        "    By searching the following reviews: {docs}\n",
        "    Give a reason why they are similar or not, start with a Yes or a No.\n",
        "    \"\"\")\n",
        "\n",
        "    # Create and invoke evaluation chain\n",
        "    chain_part_2 = prompt_eval | llm | StrOutputParser()\n",
        "    evals = chain_part_2.invoke({\"answer\": rag_response_text, \"docs\": review_content})\n",
        "\n",
        "    return rag_response_text, review_content, evals"
      ]
    },
    {
      "cell_type": "code",
      "execution_count": null,
      "metadata": {
        "id": "TC83xeOWLd0z"
      },
      "outputs": [],
      "source": [
        "rag_response_text, review_content, evals = get_rag_response_from_query(db, query)"
      ]
    },
    {
      "cell_type": "code",
      "execution_count": null,
      "metadata": {
        "colab": {
          "base_uri": "https://localhost:8080/",
          "height": 105
        },
        "id": "LQARgqwOSXi8",
        "outputId": "e5a67d93-9512-4a67-9139-ff3003e8a328"
      },
      "outputs": [
        {
          "output_type": "execute_result",
          "data": {
            "text/plain": [
              "'When it comes to Nike running shoes, customers have shared a wealth of feedback that highlights some standout options. Based on reviews from Amazon, here are some top recommendations that have garnered high praise for their comfort, durability, and performance.\\n\\n[\\n    {\\n        \"product_name\": \"nike\",\\n        \"description\": \"Work great for tall guys | My husband is 6’5 and weighs about 300lb. He is a size 14-15. They are the best comfortable shoes, he loves them they are great quality and have held pretty well. Definitely recommend if you need to go out or workout, walking long periods of time or running.\"\\n    },\\n    {\\n        \"product_name\": \"nike react infinity run flyknit 3\",\\n        \"description\": \"Durable, comfortable everyday shoes | As title says, these are super durable and comfortable for everyday use and running. Been wearing these every day for four months and they still have no visible wear and tear.\"\\n    },\\n    {\\n        \"product_name\": \"nike\",\\n        \"description\": \"BEST NIKE SNEAKER | I tried these on and was in heaven. I\\'m picky about comfort due to a wider foot. These are like walking on big cushions of air. So much support and I feel like I walk faster...lol\"\\n    },\\n    {\\n        \"product_name\": \"nike sport trail\",\\n        \"description\": \"Great @ Pounding Pavement | I like these shoes quite a bit. Wore them for a half marathon and they are comfortable for the long haul. Currently, I have the green ones as well and they are still “okay” after 175 miles. I ended up buying new ones in blue to keep a bounce in my step.\"\\n    }\\n]\\n\\nIn conclusion, whether you\\'re looking for a shoe that can handle long runs, provide exceptional comfort for wider feet, or offer durability for everyday use, these Nike running shoes come highly recommended by customers. Their positive experiences highlight the quality and performance you can expect from these models.'"
            ],
            "application/vnd.google.colaboratory.intrinsic+json": {
              "type": "string"
            }
          },
          "metadata": {},
          "execution_count": 49
        }
      ],
      "source": [
        "rag_response_text"
      ]
    },
    {
      "cell_type": "markdown",
      "metadata": {
        "id": "9-ELr-MhePaY"
      },
      "source": [
        "#Create OpenAI Response Dictionary from RAG Response for Later Hyperlinking; Separate JSON Response from Intro and Conclusion. (This part is not really \"AI related\" so you can treat this lightly)"
      ]
    },
    {
      "cell_type": "code",
      "execution_count": null,
      "metadata": {
        "id": "j54CGYJkyxfe"
      },
      "outputs": [],
      "source": [
        "def create_response_tuple(rag_response_text):\n",
        "    openai_response_formatted = rag_response_text.strip()\n",
        "\n",
        "    # Finding the start and end of the JSON data\n",
        "    json_start = openai_response_formatted.find('[')\n",
        "    json_end = openai_response_formatted.rfind(']') + 1  # +1 to include the closing bracket\n",
        "\n",
        "    # Extracting the intro and conclusion text\n",
        "    intro_text = openai_response_formatted[:json_start].strip()\n",
        "    conclusion_text = openai_response_formatted[json_end:].strip()\n",
        "\n",
        "    # Extracting the product description data from the response\n",
        "    openai_response_products = openai_response_formatted[json_start:json_end].strip()\n",
        "\n",
        "    # Converting JSON data to a list of dictionaries\n",
        "    data = json.loads(openai_response_products)\n",
        "\n",
        "    # Creating a dictionary with product names and descriptions\n",
        "    response_product_dict = {}\n",
        "    for item in data:\n",
        "        response_product_dict[item['product_name']] = item['description']\n",
        "\n",
        "    return intro_text, response_product_dict, conclusion_text"
      ]
    },
    {
      "cell_type": "code",
      "execution_count": null,
      "metadata": {
        "id": "7xsewVmPLJWp"
      },
      "outputs": [],
      "source": [
        "#debug\n",
        "response_tuple = create_response_tuple(rag_response_text)"
      ]
    },
    {
      "cell_type": "code",
      "execution_count": null,
      "metadata": {
        "colab": {
          "base_uri": "https://localhost:8080/",
          "height": 52
        },
        "id": "paLXCYetSh1S",
        "outputId": "11be7894-6405-4915-bb0c-e7a9e226bee2"
      },
      "outputs": [
        {
          "output_type": "execute_result",
          "data": {
            "text/plain": [
              "'When it comes to Nike running shoes, customers have shared a wealth of feedback that highlights some standout options. Based on reviews from Amazon, here are some top recommendations that have garnered high praise for their comfort, durability, and performance.'"
            ],
            "application/vnd.google.colaboratory.intrinsic+json": {
              "type": "string"
            }
          },
          "metadata": {},
          "execution_count": 52
        }
      ],
      "source": [
        "intro = response_tuple[0]\n",
        "intro"
      ]
    },
    {
      "cell_type": "code",
      "execution_count": null,
      "metadata": {
        "colab": {
          "base_uri": "https://localhost:8080/"
        },
        "id": "NIMwH76DoChs",
        "outputId": "2c42d9b1-70df-417f-d392-554d94c46f63"
      },
      "outputs": [
        {
          "output_type": "execute_result",
          "data": {
            "text/plain": [
              "{'nike': \"BEST NIKE SNEAKER | I tried these on and was in heaven. I'm picky about comfort due to a wider foot. These are like walking on big cushions of air. So much support and I feel like I walk faster...lol\",\n",
              " 'nike react infinity run flyknit 3': 'Durable, comfortable everyday shoes | As title says, these are super durable and comfortable for everyday use and running. Been wearing these every day for four months and they still have no visible wear and tear.',\n",
              " 'nike sport trail': 'Great @ Pounding Pavement | I like these shoes quite a bit. Wore them for a half marathon and they are comfortable for the long haul. Currently, I have the green ones as well and they are still “okay” after 175 miles. I ended up buying new ones in blue to keep a bounce in my step.'}"
            ]
          },
          "metadata": {},
          "execution_count": 53
        }
      ],
      "source": [
        "response_product_dict = response_tuple[1]\n",
        "response_product_dict"
      ]
    },
    {
      "cell_type": "code",
      "execution_count": null,
      "metadata": {
        "colab": {
          "base_uri": "https://localhost:8080/",
          "height": 52
        },
        "id": "qv8gBRX5oScn",
        "outputId": "262d17ee-193e-4bec-d03a-14909064d961"
      },
      "outputs": [
        {
          "output_type": "execute_result",
          "data": {
            "text/plain": [
              "\"In conclusion, whether you're looking for a shoe that can handle long runs, provide exceptional comfort for wider feet, or offer durability for everyday use, these Nike running shoes come highly recommended by customers. Their positive experiences highlight the quality and performance you can expect from these models.\""
            ],
            "application/vnd.google.colaboratory.intrinsic+json": {
              "type": "string"
            }
          },
          "metadata": {},
          "execution_count": 54
        }
      ],
      "source": [
        "conclusion = response_tuple[2]\n",
        "conclusion"
      ]
    },
    {
      "cell_type": "markdown",
      "metadata": {
        "id": "sm_XqQK8zRwu"
      },
      "source": [
        "#Create Hyperlinks and Insert into OpenAI response (This part is also not really \"AI related\" so you can treat this lightly)"
      ]
    },
    {
      "cell_type": "code",
      "execution_count": null,
      "metadata": {
        "id": "SE98gpnXmS4B"
      },
      "outputs": [],
      "source": [
        "# this works well with text-embedding-ada-002 but less well with text-embedding-3-small.\n",
        "# This is undoubtedly due to some formatting nuances that I'll figure out later\n",
        "# text-embedding-3-small is cheaper than text-embedding-ada-002 so I should use it\n",
        "\n",
        "def create_hyperlink_mapping(response_product_dict, product_and_review_dict):\n",
        "    \"\"\"\n",
        "    Create a mapping of product names to their hyperlinked versions using the closest matches.\n",
        "\n",
        "    Args:\n",
        "    response_product_dict (dict): A dictionary of product names from an OpenAI response\n",
        "    product_and_review_dict (dict): A nested dictionary of product details including URLs.\n",
        "\n",
        "    Returns:\n",
        "    dict: A dictionary mapping product names to hyperlinked versions.\n",
        "    \"\"\"\n",
        "    hyperlink_mapping = {}\n",
        "\n",
        "    # Flatten the nested product_and_review_dict\n",
        "    flattened_product_dict = {}\n",
        "    for batch in product_and_review_dict.values():\n",
        "        for product in batch:\n",
        "            product_title = product['Product_Title'].lower()\n",
        "            url = product['Link_Url']\n",
        "            flattened_product_dict[product_title] = url\n",
        "\n",
        "    # Iterate over products in response_product_dict\n",
        "    for product_name in response_product_dict.keys():\n",
        "        # Lowercase the product name for matching\n",
        "        matched_product_lower = product_name.lower()\n",
        "\n",
        "        # Find the corresponding URL in flattened_product_dict\n",
        "        for title, url in flattened_product_dict.items():\n",
        "            if matched_product_lower in title:\n",
        "                # Create a hyperlink version of the product name\n",
        "                hyperlink_mapping[product_name] = f'<a href=\"{url}\">{product_name}</a>'\n",
        "                break  # Stop searching once a match is found\n",
        "\n",
        "    return hyperlink_mapping"
      ]
    },
    {
      "cell_type": "code",
      "execution_count": null,
      "metadata": {
        "colab": {
          "base_uri": "https://localhost:8080/"
        },
        "id": "Zw0EY2z4zrk1",
        "outputId": "3f8e8bea-5d6e-436b-ad3b-5431452eb488"
      },
      "outputs": [
        {
          "output_type": "execute_result",
          "data": {
            "text/plain": [
              "{'nike': '<a href=\"https://www.amazon.com/NIKE-Running-Shoes-Black-White-AH8050-100/dp/B078X16RP7/ref=cm_cr_arp_d_bdcrb_top?ie=UTF8\">nike</a>',\n",
              " 'nike react infinity run flyknit 3': '<a href=\"https://www.amazon.com/Nike-Infinity-Flyknit-Running-Grey-Grey/dp/B0BR58HL83/ref=cm_cr_arp_d_bdcrb_top?ie=UTF8\">nike react infinity run flyknit 3</a>',\n",
              " 'nike sport trail': '<a href=\"https://www.amazon.com/Nike-Sport-Trail-Running-Anthracite/dp/B09XXYWN3R/ref=cm_cr_arp_d_bdcrb_top?ie=UTF8\">nike sport trail</a>'}"
            ]
          },
          "metadata": {},
          "execution_count": 56
        }
      ],
      "source": [
        "#debug\n",
        "\n",
        "hyperlink_match_dict = create_hyperlink_mapping(response_product_dict, product_and_review_dict)\n",
        "hyperlink_match_dict"
      ]
    },
    {
      "cell_type": "markdown",
      "metadata": {
        "id": "uCdbBQ3TMRqf"
      },
      "source": [
        "#Create API"
      ]
    },
    {
      "cell_type": "code",
      "execution_count": null,
      "metadata": {
        "id": "IuzjmlU0LuSC"
      },
      "outputs": [],
      "source": [
        "def linkify_response_for_gradio(response_product_dict, hyperlink_match_dict):\n",
        "    updated_response = \"\"\n",
        "    for product, description in response_product_dict.items():\n",
        "        # Embed hyperlink for the product, if available\n",
        "        hyperlink = hyperlink_match_dict.get(product, None)\n",
        "        if hyperlink:\n",
        "            # Add target=\"_blank\" to open in new tab and embed in the text\n",
        "            updated_hyperlink = hyperlink.replace('<a href=', '<a target=\"_blank\" href=')\n",
        "        else:\n",
        "            # If no hyperlink, use the product name as plain text\n",
        "            updated_hyperlink = f'<a>{product}</a>'\n",
        "\n",
        "        # Combine the hyperlinked product with its description\n",
        "        # Remove the product name from the description to avoid repetition\n",
        "        description_without_product_name = description.replace(product, '').strip()\n",
        "        updated_response += f\"<p>{updated_hyperlink}: {description_without_product_name}</p>\"\n",
        "\n",
        "    # Replace newline characters with HTML line breaks (if needed)\n",
        "    response_with_breaks = updated_response.replace('\\n', '<br>')\n",
        "    return response_with_breaks"
      ]
    },
    {
      "cell_type": "code",
      "execution_count": null,
      "metadata": {
        "colab": {
          "base_uri": "https://localhost:8080/",
          "height": 590
        },
        "id": "H9gNQU_Axc7s",
        "outputId": "c60803cf-72e4-47f6-dd35-c902087115a1"
      },
      "outputs": [
        {
          "output_type": "stream",
          "name": "stdout",
          "text": [
            "Colab notebook detected. To show errors in colab notebook, set debug=True in launch()\n",
            "Running on public URL: https://ca40464e3268cdc305.gradio.live\n",
            "\n",
            "This share link expires in 72 hours. For free permanent hosting and GPU upgrades, run `gradio deploy` from Terminal to deploy to Spaces (https://huggingface.co/spaces)\n"
          ]
        },
        {
          "output_type": "display_data",
          "data": {
            "text/plain": [
              "<IPython.core.display.HTML object>"
            ],
            "text/html": [
              "<div><iframe src=\"https://ca40464e3268cdc305.gradio.live\" width=\"100%\" height=\"500\" allow=\"autoplay; camera; microphone; clipboard-read; clipboard-write;\" frameborder=\"0\" allowfullscreen></iframe></div>"
            ]
          },
          "metadata": {}
        }
      ],
      "source": [
        "#Putting it all together\n",
        "\n",
        "def main():\n",
        "\n",
        "  def greet(query):\n",
        "\n",
        "      # Step 1: Get OpenAI response\n",
        "      rag_response_text, review_content, evals = get_rag_response_from_query(db, query, k=5)\n",
        "\n",
        "      # Step 2: Convert string response to product_dict\n",
        "      response_tuple = create_response_tuple(rag_response_text)\n",
        "      intro = response_tuple[0]\n",
        "      response_product_dict = response_tuple[1]\n",
        "      conclusion = response_tuple[2]\n",
        "\n",
        "      # Step 3: Create hyperlink mapping\n",
        "      hyperlink_match_dict = create_hyperlink_mapping(response_product_dict, product_and_review_dict)\n",
        "\n",
        "      # Step 4: Linkify response for Gradio\n",
        "      hyperlinked_response = linkify_response_for_gradio(response_product_dict, hyperlink_match_dict)\n",
        "\n",
        "      # Step 5: Return the response with its intro and conclusion\n",
        "      intro_html = f\"<p>{intro}</p>\" #things get messed up if I don't do this, not entirely sure why\n",
        "      conclusion_html = f\"<p>{conclusion}</p>\"\n",
        "      final_response = intro_html + hyperlinked_response + conclusion_html\n",
        "      final_response = final_response.replace('\\n', '<br>')\n",
        "\n",
        "      return final_response, review_content, evals\n",
        "\n",
        "  examples = [\n",
        "      [\"Can you recommend some lightweight Nike running shoes that dry easily if they get wet and that customers really love?\"],\n",
        "      [\"Can you recommend some lightweight Nike basketball shoes that have good ankle support?\"],\n",
        "      [\"Can you recommend some Nike shoes that customers love?\"],\n",
        "      [\"Can you recommend some Nike shoes that are comfortable and durable?\"],\n",
        "      ]\n",
        "\n",
        "  nike_product_search = gr.Interface(fn=greet, title=\"Bill Leece's Nike Product Sentiment Search & Adwords Simulator\", inputs=\"text\",\n",
        "                            outputs=[ #gr.components.Textbox(lines=3, label=\"Response\"),\n",
        "                            gr.HTML(label=\"Response\"),\n",
        "                            gr.components.Textbox(lines=3, label=\"Source\"),\n",
        "                            gr.components.Textbox(lines=3, label=\"Evaluation\")],\n",
        "                                    )\n",
        "\n",
        "  nike_product_search.launch(share=True)\n",
        "\n",
        "if __name__ == \"__main__\":\n",
        "    main()"
      ]
    }
  ],
  "metadata": {
    "colab": {
      "gpuType": "T4",
      "machine_shape": "hm",
      "provenance": [],
      "authorship_tag": "ABX9TyP4HVnGj6aWqZx/3QRVJnf8",
      "include_colab_link": true
    },
    "kernelspec": {
      "display_name": "Python 3",
      "name": "python3"
    },
    "language_info": {
      "name": "python"
    }
  },
  "nbformat": 4,
  "nbformat_minor": 0
}